{
 "cells": [
  {
   "cell_type": "code",
   "execution_count": 5,
   "metadata": {},
   "outputs": [
    {
     "name": "stderr",
     "output_type": "stream",
     "text": [
      "/Users/hanzhe/anaconda3/lib/python3.7/site-packages/IPython/core/interactiveshell.py:3185: DtypeWarning: Columns (27) have mixed types. Specify dtype option on import or set low_memory=False.\n",
      "  if (yield from self.run_code(code, result)):\n"
     ]
    }
   ],
   "source": [
    "from dm_tools_dataprep import data_prep\n",
    "\n",
    "df = data_prep()"
   ]
  },
  {
   "cell_type": "code",
   "execution_count": 2,
   "metadata": {},
   "outputs": [
    {
     "name": "stdout",
     "output_type": "stream",
     "text": [
      "<class 'pandas.core.frame.DataFrame'>\n",
      "RangeIndex: 41476 entries, 0 to 41475\n",
      "Data columns (total 100 columns):\n",
      "VehYear                              41476 non-null float64\n",
      "VehOdo                               41476 non-null float64\n",
      "MMRAcquisitionAuctionAveragePrice    41476 non-null float64\n",
      "MMRAcquisitionAuctionCleanPrice      41476 non-null float64\n",
      "MMRAcquisitionRetailAveragePrice     41476 non-null float64\n",
      "MMRAcquisitonRetailCleanPrice        41476 non-null float64\n",
      "MMRCurrentAuctionAveragePrice        41476 non-null float64\n",
      "MMRCurrentAuctionCleanPrice          41476 non-null float64\n",
      "MMRCurrentRetailAveragePrice         41476 non-null float64\n",
      "MMRCurrentRetailCleanPrice           41476 non-null float64\n",
      "VehBCost                             41476 non-null float64\n",
      "WarrantyCost                         41476 non-null float64\n",
      "IsBadBuy                             41476 non-null int64\n",
      "Auction_ADESA                        41476 non-null uint8\n",
      "Auction_MANHEIM                      41476 non-null uint8\n",
      "Auction_OTHER                        41476 non-null uint8\n",
      "Make_ACURA                           41476 non-null uint8\n",
      "Make_BUICK                           41476 non-null uint8\n",
      "Make_CADILLAC                        41476 non-null uint8\n",
      "Make_CHEVROLET                       41476 non-null uint8\n",
      "Make_CHRYSLER                        41476 non-null uint8\n",
      "Make_DODGE                           41476 non-null uint8\n",
      "Make_FORD                            41476 non-null uint8\n",
      "Make_GMC                             41476 non-null uint8\n",
      "Make_HONDA                           41476 non-null uint8\n",
      "Make_HYUNDAI                         41476 non-null uint8\n",
      "Make_INFINITI                        41476 non-null uint8\n",
      "Make_ISUZU                           41476 non-null uint8\n",
      "Make_JEEP                            41476 non-null uint8\n",
      "Make_KIA                             41476 non-null uint8\n",
      "Make_LEXUS                           41476 non-null uint8\n",
      "Make_LINCOLN                         41476 non-null uint8\n",
      "Make_MAZDA                           41476 non-null uint8\n",
      "Make_MERCURY                         41476 non-null uint8\n",
      "Make_MINI                            41476 non-null uint8\n",
      "Make_MITSUBISHI                      41476 non-null uint8\n",
      "Make_NISSAN                          41476 non-null uint8\n",
      "Make_OLDSMOBILE                      41476 non-null uint8\n",
      "Make_PONTIAC                         41476 non-null uint8\n",
      "Make_SATURN                          41476 non-null uint8\n",
      "Make_SCION                           41476 non-null uint8\n",
      "Make_SUBARU                          41476 non-null uint8\n",
      "Make_SUZUKI                          41476 non-null uint8\n",
      "Make_TOYOTA                          41476 non-null uint8\n",
      "Make_VOLKSWAGEN                      41476 non-null uint8\n",
      "Make_VOLVO                           41476 non-null uint8\n",
      "WheelType_Alloy                      41476 non-null uint8\n",
      "WheelType_Covers                     41476 non-null uint8\n",
      "WheelType_Special                    41476 non-null uint8\n",
      "Nationality_AMERICAN                 41476 non-null uint8\n",
      "Nationality_OTHER                    41476 non-null uint8\n",
      "Nationality_OTHER ASIAN              41476 non-null uint8\n",
      "Nationality_TOP LINE ASIAN           41476 non-null uint8\n",
      "Size_COMPACT                         41476 non-null uint8\n",
      "Size_CROSSOVER                       41476 non-null uint8\n",
      "Size_LARGE                           41476 non-null uint8\n",
      "Size_LARGE SUV                       41476 non-null uint8\n",
      "Size_LARGE TRUCK                     41476 non-null uint8\n",
      "Size_MEDIUM                          41476 non-null uint8\n",
      "Size_MEDIUM SUV                      41476 non-null uint8\n",
      "Size_SMALL SUV                       41476 non-null uint8\n",
      "Size_SMALL TRUCK                     41476 non-null uint8\n",
      "Size_SPECIALTY                       41476 non-null uint8\n",
      "Size_SPORTS                          41476 non-null uint8\n",
      "Size_VAN                             41476 non-null uint8\n",
      "TopThreeAmericanName_CHRYSLER        41476 non-null uint8\n",
      "TopThreeAmericanName_FORD            41476 non-null uint8\n",
      "TopThreeAmericanName_GM              41476 non-null uint8\n",
      "TopThreeAmericanName_OTHER           41476 non-null uint8\n",
      "VNST_AL                              41476 non-null uint8\n",
      "VNST_AZ                              41476 non-null uint8\n",
      "VNST_CA                              41476 non-null uint8\n",
      "VNST_CO                              41476 non-null uint8\n",
      "VNST_FL                              41476 non-null uint8\n",
      "VNST_GA                              41476 non-null uint8\n",
      "VNST_ID                              41476 non-null uint8\n",
      "VNST_IL                              41476 non-null uint8\n",
      "VNST_IN                              41476 non-null uint8\n",
      "VNST_KY                              41476 non-null uint8\n",
      "VNST_LA                              41476 non-null uint8\n",
      "VNST_MO                              41476 non-null uint8\n",
      "VNST_MS                              41476 non-null uint8\n",
      "VNST_NC                              41476 non-null uint8\n",
      "VNST_NE                              41476 non-null uint8\n",
      "VNST_NH                              41476 non-null uint8\n",
      "VNST_NJ                              41476 non-null uint8\n",
      "VNST_NM                              41476 non-null uint8\n",
      "VNST_NV                              41476 non-null uint8\n",
      "VNST_NY                              41476 non-null uint8\n",
      "VNST_OH                              41476 non-null uint8\n",
      "VNST_OK                              41476 non-null uint8\n",
      "VNST_OR                              41476 non-null uint8\n",
      "VNST_PA                              41476 non-null uint8\n",
      "VNST_SC                              41476 non-null uint8\n",
      "VNST_TN                              41476 non-null uint8\n",
      "VNST_TX                              41476 non-null uint8\n",
      "VNST_UT                              41476 non-null uint8\n",
      "VNST_VA                              41476 non-null uint8\n",
      "VNST_WA                              41476 non-null uint8\n",
      "VNST_WV                              41476 non-null uint8\n",
      "dtypes: float64(12), int64(1), uint8(87)\n",
      "memory usage: 7.6 MB\n",
      "None\n"
     ]
    }
   ],
   "source": [
    "print(df.info())"
   ]
  },
  {
   "cell_type": "code",
   "execution_count": 6,
   "metadata": {},
   "outputs": [],
   "source": [
    "from sklearn.model_selection import train_test_split"
   ]
  },
  {
   "cell_type": "code",
   "execution_count": 7,
   "metadata": {},
   "outputs": [],
   "source": [
    "# preprocessing step\n",
    "df = data_prep()\n",
    "\n",
    "# target/input split\n",
    "y = df['IsBadBuy']\n",
    "X = df.drop(['IsBadBuy'], axis=1)"
   ]
  },
  {
   "cell_type": "code",
   "execution_count": 8,
   "metadata": {},
   "outputs": [
    {
     "name": "stderr",
     "output_type": "stream",
     "text": [
      "/Users/hanzhe/anaconda3/lib/python3.7/site-packages/ipykernel_launcher.py:10: FutureWarning: Method .as_matrix will be removed in a future version. Use .values instead.\n",
      "  # Remove the CWD from sys.path while we load stuff.\n"
     ]
    }
   ],
   "source": [
    "# OverSampling\n",
    "\n",
    "from imblearn.over_sampling import RandomOverSampler\n",
    "from sklearn.neural_network import MLPClassifier\n",
    "from collections import Counter\n",
    "\n",
    "ros=RandomOverSampler(random_state=0)\n",
    "rs = 10\n",
    "\n",
    "X_mat = X.as_matrix()\n",
    "\n",
    "X_train, X_test, y_train, y_test=train_test_split(X_mat, y, test_size=0.2, stratify=y,random_state=rs)\n",
    "X_resampled, y_resampled = ros.fit_resample(X_train, y_train)\n",
    "\n",
    "print('Original database shape %s' % Counter(y_train))\n",
    "print('Resampled database shape %s' % Counter(y_resampled))"
   ]
  },
  {
   "cell_type": "code",
   "execution_count": 9,
   "metadata": {},
   "outputs": [
    {
     "data": {
      "text/plain": [
       "DecisionTreeClassifier(class_weight=None, criterion='gini', max_depth=None,\n",
       "            max_features=None, max_leaf_nodes=None,\n",
       "            min_impurity_decrease=0.0, min_impurity_split=None,\n",
       "            min_samples_leaf=1, min_samples_split=2,\n",
       "            min_weight_fraction_leaf=0.0, presort=False, random_state=10,\n",
       "            splitter='best')"
      ]
     },
     "execution_count": 9,
     "metadata": {},
     "output_type": "execute_result"
    }
   ],
   "source": [
    "# Oversampling tree training\n",
    "from sklearn.tree import DecisionTreeClassifier\n",
    "from sklearn.metrics import classification_report, accuracy_score\n",
    "\n",
    "model = DecisionTreeClassifier(random_state=rs)\n",
    "model.fit(X_resampled, y_resampled)"
   ]
  },
  {
   "cell_type": "code",
   "execution_count": 7,
   "metadata": {},
   "outputs": [
    {
     "name": "stdout",
     "output_type": "stream",
     "text": [
      "Train accuracy: 0.9994806633659938\n",
      "Test accuracy: 0.7907425265188043\n",
      "              precision    recall  f1-score   support\n",
      "\n",
      "           0       0.88      0.87      0.88      7222\n",
      "           1       0.21      0.23      0.22      1074\n",
      "\n",
      "   micro avg       0.79      0.79      0.79      8296\n",
      "   macro avg       0.55      0.55      0.55      8296\n",
      "weighted avg       0.80      0.79      0.79      8296\n",
      "\n"
     ]
    }
   ],
   "source": [
    "print(\"Train accuracy:\", model.score(X_resampled, y_resampled))\n",
    "print(\"Test accuracy:\", model.score(X_test, y_test))\n",
    "y_pred2 = model.predict(X_test)\n",
    "print(classification_report(y_test, y_pred2))"
   ]
  },
  {
   "cell_type": "code",
   "execution_count": 9,
   "metadata": {},
   "outputs": [
    {
     "name": "stdout",
     "output_type": "stream",
     "text": [
      "VehBCost : 0.11634946681076537\n",
      "VehOdo : 0.09670186762051042\n",
      "MMRAcquisitionAuctionCleanPrice : 0.06541600689545407\n",
      "MMRCurrentAuctionAveragePrice : 0.05971814547249137\n",
      "MMRAcquisitionRetailAveragePrice : 0.0586767973582952\n",
      "MMRAcquisitonRetailCleanPrice : 0.05685759086838311\n",
      "MMRAcquisitionAuctionAveragePrice : 0.056527158838226545\n",
      "MMRCurrentAuctionCleanPrice : 0.056357004071517655\n",
      "VehYear : 0.05596899850886534\n",
      "MMRCurrentRetailCleanPrice : 0.05437837575264805\n",
      "MMRCurrentRetailAveragePrice : 0.052455646159117894\n",
      "WarrantyCost : 0.04874446067786299\n",
      "WheelType_Alloy : 0.02161539700871621\n",
      "Auction_MANHEIM : 0.014963541806455144\n",
      "VNST_TX : 0.009203227040695644\n",
      "VNST_NC : 0.00903221686522076\n",
      "VNST_FL : 0.008006356848749919\n",
      "VNST_CA : 0.007316542651035041\n",
      "VNST_CO : 0.006871603716882794\n",
      "TopThreeAmericanName_GM : 0.006767843727049548\n"
     ]
    }
   ],
   "source": [
    "# grab feature importances from the model and feature name from the original X\n",
    "\n",
    "import numpy as np\n",
    "\n",
    "importances = model.feature_importances_\n",
    "feature_names = X.columns\n",
    "\n",
    "# sort them out in descending order\n",
    "indices = np.argsort(importances)\n",
    "indices = np.flip(indices, axis=0)\n",
    "\n",
    "# limit to 20 features, you can leave this out to print out everything\n",
    "indices = indices[:20]\n",
    "\n",
    "for i in indices:\n",
    "    print(feature_names[i], ':', importances[i])"
   ]
  },
  {
   "cell_type": "code",
   "execution_count": 11,
   "metadata": {},
   "outputs": [],
   "source": [
    "# visualize\n",
    "\n",
    "import pydot\n",
    "from io import StringIO\n",
    "from sklearn.tree import export_graphviz\n",
    "\n",
    "dotfile = StringIO()\n",
    "export_graphviz(model, out_file=dotfile, feature_names=X.columns)\n",
    "graph = pydot.graph_from_dot_data(dotfile.getvalue())\n",
    "graph[0].write_png(\"OverSampledTree_1.png\")"
   ]
  },
  {
   "cell_type": "code",
   "execution_count": 17,
   "metadata": {},
   "outputs": [
    {
     "name": "stdout",
     "output_type": "stream",
     "text": [
      "Train accuracy: 0.6331059792957795\n",
      "Test accuracy: 0.563404050144648\n",
      "              precision    recall  f1-score   support\n",
      "\n",
      "           0       0.92      0.54      0.68      7222\n",
      "           1       0.18      0.69      0.29      1074\n",
      "\n",
      "   micro avg       0.56      0.56      0.56      8296\n",
      "   macro avg       0.55      0.62      0.49      8296\n",
      "weighted avg       0.83      0.56      0.63      8296\n",
      "\n"
     ]
    }
   ],
   "source": [
    "#retrain with a small max_depth limit\n",
    "\n",
    "model = DecisionTreeClassifier(max_depth=3, random_state=rs)\n",
    "model.fit(X_resampled, y_resampled)\n",
    "\n",
    "print(\"Train accuracy:\", model.score(X_resampled, y_resampled))\n",
    "print(\"Test accuracy:\", model.score(X_test, y_test))\n",
    "\n",
    "y_pred2 = model.predict(X_test)\n",
    "print(classification_report(y_test, y_pred2))"
   ]
  },
  {
   "cell_type": "code",
   "execution_count": 19,
   "metadata": {},
   "outputs": [
    {
     "name": "stdout",
     "output_type": "stream",
     "text": [
      "VehOdo : 0.11010703741086605\n",
      "VehBCost : 0.10883605167298097\n",
      "MMRCurrentAuctionCleanPrice : 0.06411503947273658\n",
      "MMRCurrentAuctionAveragePrice : 0.059611044344009226\n",
      "MMRAcquisitionAuctionCleanPrice : 0.05881174712528088\n",
      "MMRAcquisitionAuctionAveragePrice : 0.05877025120772889\n",
      "MMRAcquisitonRetailCleanPrice : 0.0557570836982016\n",
      "MMRAcquisitionRetailAveragePrice : 0.054940140775420754\n",
      "MMRCurrentRetailCleanPrice : 0.05478761597477693\n",
      "MMRCurrentRetailAveragePrice : 0.05064054349066412\n",
      "WarrantyCost : 0.04769612367535727\n",
      "VehYear : 0.04193922652276833\n",
      "WheelType_Alloy : 0.017075337178964617\n",
      "Auction_MANHEIM : 0.014706212132105394\n",
      "VNST_TX : 0.012124323848710372\n",
      "VNST_AZ : 0.007904203337086866\n",
      "VNST_CA : 0.00762386709041947\n",
      "VNST_FL : 0.006597079447374186\n",
      "VNST_PA : 0.006239216790417745\n",
      "Make_CHRYSLER : 0.005778076442135406\n"
     ]
    }
   ],
   "source": [
    "# grab feature importance from the model and feature name from the original X\n",
    "importances = model.feature_importances_\n",
    "feature_names = X.columns\n",
    "\n",
    "# sort them out in descending order\n",
    "indices = np.argsort(importances)\n",
    "indices = np.flip(indices, axis=0)\n",
    "\n",
    "# limit to 20 features, you can leave this out to print out everything\n",
    "indices = indices[:20]\n",
    "\n",
    "for i in indices:\n",
    "    print(feature_names[i], ':', importances[i])\n",
    "\n",
    "# visualize\n",
    "dotfile = StringIO()\n",
    "export_graphviz(model, out_file=dotfile, feature_names=X.columns)\n",
    "graph = pydot.graph_from_dot_data(dotfile.getvalue())\n",
    "graph[0].write_png(\"OversampledTree_2.png\") # saved in the following file"
   ]
  },
  {
   "cell_type": "code",
   "execution_count": 23,
   "metadata": {},
   "outputs": [],
   "source": [
    "test_score = []\n",
    "train_score = []\n",
    "\n",
    "# check the model performance for max depth from 2-20\n",
    "for max_depth in range(2, 21):\n",
    "    model = DecisionTreeClassifier(max_depth=max_depth, random_state=rs)\n",
    "    model.fit(X_resampled, y_resampled)\n",
    "    \n",
    "    test_score.append(model.score(X_test, y_test))\n",
    "    train_score.append(model.score(X_resampled, y_resampled))"
   ]
  },
  {
   "cell_type": "code",
   "execution_count": 24,
   "metadata": {},
   "outputs": [
    {
     "data": {
      "image/png": "[encoded data removed]",
      "text/plain": [
       "<Figure size 432x288 with 1 Axes>"
      ]
     },
     "metadata": {
      "needs_background": "light"
     },
     "output_type": "display_data"
    }
   ],
   "source": [
    "import matplotlib.pyplot as plt\n",
    "\n",
    "# plot max depth hyperparameter values vs training and test accuracy score\n",
    "plt.plot(range(2, 21), train_score, 'b', range(2,21), test_score, 'r')\n",
    "plt.xlabel('max_depth\\nBlue = training acc. Red = test acc.')\n",
    "plt.ylabel('accuracy')\n",
    "plt.show()"
   ]
  },
  {
   "cell_type": "code",
   "execution_count": 2,
   "metadata": {},
   "outputs": [],
   "source": [
    "from sklearn.model_selection import GridSearchCV"
   ]
  },
  {
   "cell_type": "code",
   "execution_count": 10,
   "metadata": {},
   "outputs": [
    {
     "name": "stdout",
     "output_type": "stream",
     "text": [
      "Train accuracy: 0.7010525222449192\n",
      "Test accuracy: 0.5835342333654774\n",
      "              precision    recall  f1-score   support\n",
      "\n",
      "           0       0.91      0.58      0.71      7222\n",
      "           1       0.18      0.64      0.28      1074\n",
      "\n",
      "   micro avg       0.58      0.58      0.58      8296\n",
      "   macro avg       0.55      0.61      0.50      8296\n",
      "weighted avg       0.82      0.58      0.65      8296\n",
      "\n",
      "{'criterion': 'gini', 'max_depth': 9, 'min_samples_leaf': 20}\n"
     ]
    }
   ],
   "source": [
    "# grid search CV\n",
    "params = {'criterion': ['gini', 'entropy'],\n",
    "          'max_depth': range(2, 10),\n",
    "          'min_samples_leaf': range(20, 90, 10)}\n",
    "\n",
    "cv = GridSearchCV(param_grid=params, estimator=DecisionTreeClassifier(random_state=rs), cv=10)\n",
    "cv.fit(X_resampled, y_resampled)\n",
    "\n",
    "print(\"Train accuracy:\", cv.score(X_resampled, y_resampled))\n",
    "print(\"Test accuracy:\", cv.score(X_test, y_test))\n",
    "\n",
    "# test the best model\n",
    "y_pred2 = cv.predict(X_test)\n",
    "print(classification_report(y_test, y_pred2))\n",
    "\n",
    "# print parameters of the best model\n",
    "print(cv.best_params_)"
   ]
  },
  {
   "cell_type": "code",
   "execution_count": 11,
   "metadata": {},
   "outputs": [
    {
     "name": "stdout",
     "output_type": "stream",
     "text": [
      "Train accuracy: 0.7970778658726586\n",
      "Test accuracy: 0.6442864030858245\n",
      "              precision    recall  f1-score   support\n",
      "\n",
      "           0       0.90      0.66      0.76      7222\n",
      "           1       0.18      0.51      0.27      1074\n",
      "\n",
      "   micro avg       0.64      0.64      0.64      8296\n",
      "   macro avg       0.54      0.59      0.52      8296\n",
      "weighted avg       0.81      0.64      0.70      8296\n",
      "\n",
      "{'criterion': 'gini', 'max_depth': 14, 'min_samples_leaf': 15}\n"
     ]
    }
   ],
   "source": [
    "# grid search CV\n",
    "params = {'criterion': ['gini', 'entropy'],\n",
    "          'max_depth': range(4, 15),\n",
    "          'min_samples_leaf': range(15, 25)}\n",
    "\n",
    "cv = GridSearchCV(param_grid=params, estimator=DecisionTreeClassifier(random_state=rs), cv=10)\n",
    "cv.fit(X_resampled, y_resampled)\n",
    "\n",
    "print(\"Train accuracy:\", cv.score(X_resampled, y_resampled))\n",
    "print(\"Test accuracy:\", cv.score(X_test, y_test))\n",
    "\n",
    "# test the best model\n",
    "y_pred2 = cv.predict(X_test)\n",
    "print(classification_report(y_test, y_pred2))\n",
    "\n",
    "# print parameters of the best model\n",
    "print(cv.best_params_)"
   ]
  },
  {
   "cell_type": "code",
   "execution_count": 13,
   "metadata": {},
   "outputs": [
    {
     "name": "stdout",
     "output_type": "stream",
     "text": [
      "VehBCost : 0.11607149082066442\n",
      "VehYear : 0.10745359931235293\n",
      "VehOdo : 0.09319083438800504\n",
      "MMRCurrentAuctionAveragePrice : 0.07101135659569033\n",
      "MMRAcquisitonRetailCleanPrice : 0.0642661717463186\n",
      "MMRCurrentAuctionCleanPrice : 0.06336500531651117\n",
      "MMRAcquisitionAuctionCleanPrice : 0.062016055507257695\n",
      "MMRCurrentRetailCleanPrice : 0.05055005462808433\n",
      "MMRAcquisitionAuctionAveragePrice : 0.04979976884597463\n",
      "MMRAcquisitionRetailAveragePrice : 0.04717420145617384\n",
      "WheelType_Alloy : 0.043789824665824754\n",
      "MMRCurrentRetailAveragePrice : 0.04326646755557965\n",
      "WarrantyCost : 0.04259648979701864\n",
      "Auction_MANHEIM : 0.02870504280826561\n",
      "WheelType_Covers : 0.012930049402425287\n",
      "VNST_NC : 0.009189976153449221\n",
      "VNST_TX : 0.008078016183804536\n",
      "TopThreeAmericanName_GM : 0.007372298014827981\n",
      "VNST_OK : 0.005655303730141145\n",
      "Size_MEDIUM : 0.004721170682839098\n"
     ]
    }
   ],
   "source": [
    "# do the feature importance and visualization analysis on GridSearchCV's best model\n",
    "from dm_tools_OptTree import analyse_feature_importance, visualize_decision_tree\n",
    "\n",
    "analyse_feature_importance(cv.best_estimator_, X.columns, 20)\n",
    "visualize_decision_tree(cv.best_estimator_, X.columns, \"optimal_tree_Oversampled.png\")"
   ]
  },
  {
   "cell_type": "code",
   "execution_count": null,
   "metadata": {},
   "outputs": [],
   "source": []
  },
  {
   "cell_type": "code",
   "execution_count": null,
   "metadata": {},
   "outputs": [],
   "source": []
  },
  {
   "cell_type": "code",
   "execution_count": null,
   "metadata": {},
   "outputs": [],
   "source": []
  }
 ],
 "metadata": {
  "kernelspec": {
   "display_name": "Python 3",
   "language": "python",
   "name": "python3"
  },
  "language_info": {
   "codemirror_mode": {
    "name": "ipython",
    "version": 3
   },
   "file_extension": ".py",
   "mimetype": "text/x-python",
   "name": "python",
   "nbconvert_exporter": "python",
   "pygments_lexer": "ipython3",
   "version": "3.7.1"
  }
 },
 "nbformat": 4,
 "nbformat_minor": 2
}
