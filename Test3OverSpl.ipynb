{
 "cells": [
  {
   "cell_type": "code",
   "execution_count": 1,
   "metadata": {},
   "outputs": [
    {
     "name": "stderr",
     "output_type": "stream",
     "text": [
      "/Users/hanzhe/anaconda3/lib/python3.7/site-packages/IPython/core/interactiveshell.py:3185: DtypeWarning: Columns (27) have mixed types. Specify dtype option on import or set low_memory=False.\n",
      "  if (yield from self.run_code(code, result)):\n"
     ]
    }
   ],
   "source": [
    "from dm_tools_dataprep import data_prep\n",
    "\n",
    "df = data_prep()"
   ]
  },
  {
   "cell_type": "code",
   "execution_count": 2,
   "metadata": {},
   "outputs": [
    {
     "name": "stdout",
     "output_type": "stream",
     "text": [
      "<class 'pandas.core.frame.DataFrame'>\n",
      "RangeIndex: 41476 entries, 0 to 41475\n",
      "Columns: 103 entries, VehYear to VNST_WV\n",
      "dtypes: float64(12), int64(2), uint8(89)\n",
      "memory usage: 8.0 MB\n",
      "None\n"
     ]
    }
   ],
   "source": [
    "print(df.info())"
   ]
  },
  {
   "cell_type": "code",
   "execution_count": 3,
   "metadata": {},
   "outputs": [],
   "source": [
    "from sklearn.model_selection import train_test_split"
   ]
  },
  {
   "cell_type": "code",
   "execution_count": 4,
   "metadata": {},
   "outputs": [
    {
     "name": "stderr",
     "output_type": "stream",
     "text": [
      "/Users/hanzhe/anaconda3/lib/python3.7/site-packages/IPython/core/interactiveshell.py:3185: DtypeWarning: Columns (27) have mixed types. Specify dtype option on import or set low_memory=False.\n",
      "  if (yield from self.run_code(code, result)):\n"
     ]
    }
   ],
   "source": [
    "# preprocessing step\n",
    "df = data_prep()\n",
    "\n",
    "# target/input split\n",
    "y = df['IsBadBuy']\n",
    "X = df.drop(['IsBadBuy'], axis=1)"
   ]
  },
  {
   "cell_type": "code",
   "execution_count": 5,
   "metadata": {},
   "outputs": [
    {
     "name": "stderr",
     "output_type": "stream",
     "text": [
      "/Users/hanzhe/anaconda3/lib/python3.7/site-packages/ipykernel_launcher.py:10: FutureWarning: Method .as_matrix will be removed in a future version. Use .values instead.\n",
      "  # Remove the CWD from sys.path while we load stuff.\n"
     ]
    }
   ],
   "source": [
    "# OverSampling\n",
    "\n",
    "from imblearn.over_sampling import RandomOverSampler\n",
    "from sklearn.neural_network import MLPClassifier\n",
    "from collections import Counter\n",
    "\n",
    "ros=RandomOverSampler(random_state=0)\n",
    "rs = 10\n",
    "\n",
    "X_mat = X.as_matrix()\n",
    "\n",
    "X_train, X_test, y_train, y_test=train_test_split(X_mat, y, test_size=0.2, stratify=y,random_state=rs)\n",
    "X_resampled, y_resampled = ros.fit_resample(X_train, y_train)"
   ]
  },
  {
   "cell_type": "code",
   "execution_count": 6,
   "metadata": {},
   "outputs": [
    {
     "data": {
      "text/plain": [
       "DecisionTreeClassifier(class_weight=None, criterion='gini', max_depth=None,\n",
       "            max_features=None, max_leaf_nodes=None,\n",
       "            min_impurity_decrease=0.0, min_impurity_split=None,\n",
       "            min_samples_leaf=1, min_samples_split=2,\n",
       "            min_weight_fraction_leaf=0.0, presort=False, random_state=10,\n",
       "            splitter='best')"
      ]
     },
     "execution_count": 6,
     "metadata": {},
     "output_type": "execute_result"
    }
   ],
   "source": [
    "# Oversampling tree training\n",
    "from sklearn.tree import DecisionTreeClassifier\n",
    "from sklearn.metrics import classification_report, accuracy_score\n",
    "\n",
    "model = DecisionTreeClassifier(random_state=rs)\n",
    "model.fit(X_resampled, y_resampled)"
   ]
  },
  {
   "cell_type": "code",
   "execution_count": 7,
   "metadata": {},
   "outputs": [
    {
     "name": "stdout",
     "output_type": "stream",
     "text": [
      "Train accuracy: 0.9994806633659938\n",
      "Test accuracy: 0.7932738669238187\n",
      "              precision    recall  f1-score   support\n",
      "\n",
      "           0       0.88      0.88      0.88      7222\n",
      "           1       0.21      0.22      0.22      1074\n",
      "\n",
      "   micro avg       0.79      0.79      0.79      8296\n",
      "   macro avg       0.55      0.55      0.55      8296\n",
      "weighted avg       0.80      0.79      0.79      8296\n",
      "\n"
     ]
    }
   ],
   "source": [
    "print(\"Train accuracy:\", model.score(X_resampled, y_resampled))\n",
    "print(\"Test accuracy:\", model.score(X_test, y_test))\n",
    "y_pred2 = model.predict(X_test)\n",
    "print(classification_report(y_test, y_pred2))"
   ]
  },
  {
   "cell_type": "code",
   "execution_count": 8,
   "metadata": {},
   "outputs": [
    {
     "name": "stdout",
     "output_type": "stream",
     "text": [
      "VehBCost : 0.11121178987228747\n",
      "VehOdo : 0.10066232815120196\n",
      "MMRAcquisitionAuctionCleanPrice : 0.06358515886706172\n",
      "MMRCurrentRetailCleanPrice : 0.058149204597101024\n",
      "MMRCurrentAuctionAveragePrice : 0.05698475427587466\n",
      "MMRAcquisitionRetailAveragePrice : 0.05683596486526123\n",
      "MMRCurrentAuctionCleanPrice : 0.0548351426042077\n",
      "MMRAcquisitionAuctionAveragePrice : 0.05463021723336661\n",
      "VehYear : 0.0543774274081806\n",
      "MMRCurrentRetailAveragePrice : 0.05430957635386498\n",
      "MMRAcquisitonRetailCleanPrice : 0.05353267006304695\n",
      "WarrantyCost : 0.05033985614382408\n",
      "WheelType_Alloy : 0.02103730134571952\n",
      "Auction_MANHEIM : 0.014853906600780897\n",
      "VNST_NC : 0.009909676571872476\n",
      "VNST_TX : 0.008111383234574597\n",
      "VNST_CA : 0.008050116158409842\n",
      "VNST_FL : 0.007254548805223008\n",
      "VNST_CO : 0.007108643606383659\n",
      "WheelType_Covers : 0.006341422205261949\n"
     ]
    }
   ],
   "source": [
    "# grab feature importances from the model and feature name from the original X\n",
    "\n",
    "import numpy as np\n",
    "\n",
    "importances = model.feature_importances_\n",
    "feature_names = X.columns\n",
    "\n",
    "# sort them out in descending order\n",
    "indices = np.argsort(importances)\n",
    "indices = np.flip(indices, axis=0)\n",
    "\n",
    "# limit to 20 features, you can leave this out to print out everything\n",
    "indices = indices[:20]\n",
    "\n",
    "for i in indices:\n",
    "    print(feature_names[i], ':', importances[i])"
   ]
  },
  {
   "cell_type": "code",
   "execution_count": 9,
   "metadata": {},
   "outputs": [],
   "source": [
    "# visualize\n",
    "\n",
    "import pydot\n",
    "from io import StringIO\n",
    "from sklearn.tree import export_graphviz\n",
    "\n",
    "dotfile = StringIO()\n",
    "export_graphviz(model, out_file=dotfile, feature_names=X.columns)\n",
    "graph = pydot.graph_from_dot_data(dotfile.getvalue())\n",
    "graph[0].write_png(\"OverSampledTree_1.png\")"
   ]
  },
  {
   "cell_type": "code",
   "execution_count": 10,
   "metadata": {},
   "outputs": [
    {
     "name": "stdout",
     "output_type": "stream",
     "text": [
      "Train accuracy: 0.6331059792957795\n",
      "Test accuracy: 0.563404050144648\n",
      "              precision    recall  f1-score   support\n",
      "\n",
      "           0       0.92      0.54      0.68      7222\n",
      "           1       0.18      0.69      0.29      1074\n",
      "\n",
      "   micro avg       0.56      0.56      0.56      8296\n",
      "   macro avg       0.55      0.62      0.49      8296\n",
      "weighted avg       0.83      0.56      0.63      8296\n",
      "\n"
     ]
    }
   ],
   "source": [
    "#retrain with a small max_depth limit\n",
    "\n",
    "model = DecisionTreeClassifier(max_depth=3, random_state=rs)\n",
    "model.fit(X_resampled, y_resampled)\n",
    "\n",
    "print(\"Train accuracy:\", model.score(X_resampled, y_resampled))\n",
    "print(\"Test accuracy:\", model.score(X_test, y_test))\n",
    "\n",
    "y_pred2 = model.predict(X_test)\n",
    "print(classification_report(y_test, y_pred2))"
   ]
  },
  {
   "cell_type": "code",
   "execution_count": 11,
   "metadata": {},
   "outputs": [
    {
     "name": "stdout",
     "output_type": "stream",
     "text": [
      "VehYear : 0.46050460247828146\n",
      "WheelType_Alloy : 0.21802973465865777\n",
      "VehBCost : 0.1594881029200245\n",
      "Auction_MANHEIM : 0.09759878560795003\n",
      "WheelType_Covers : 0.06437877433508617\n",
      "MMRAcquisitionRetailAveragePrice : 0.0\n",
      "Make_PONTIAC : 0.0\n",
      "Make_KIA : 0.0\n",
      "Make_LEXUS : 0.0\n",
      "Make_LINCOLN : 0.0\n",
      "Make_MAZDA : 0.0\n",
      "Make_MERCURY : 0.0\n",
      "Make_MINI : 0.0\n",
      "Make_MITSUBISHI : 0.0\n",
      "Make_NISSAN : 0.0\n",
      "Make_OLDSMOBILE : 0.0\n",
      "Make_SATURN : 0.0\n",
      "MMRAcquisitonRetailCleanPrice : 0.0\n",
      "Make_SCION : 0.0\n",
      "Make_SUBARU : 0.0\n"
     ]
    }
   ],
   "source": [
    "# grab feature importance from the model and feature name from the original X\n",
    "importances = model.feature_importances_\n",
    "feature_names = X.columns\n",
    "\n",
    "# sort them out in descending order\n",
    "indices = np.argsort(importances)\n",
    "indices = np.flip(indices, axis=0)\n",
    "\n",
    "# limit to 20 features, you can leave this out to print out everything\n",
    "indices = indices[:20]\n",
    "\n",
    "for i in indices:\n",
    "    print(feature_names[i], ':', importances[i])\n",
    "\n",
    "# visualize\n",
    "dotfile = StringIO()\n",
    "export_graphviz(model, out_file=dotfile, feature_names=X.columns)\n",
    "graph = pydot.graph_from_dot_data(dotfile.getvalue())\n",
    "graph[0].write_png(\"OversampledTree_2.png\") # saved in the following file"
   ]
  },
  {
   "cell_type": "code",
   "execution_count": 12,
   "metadata": {},
   "outputs": [],
   "source": [
    "test_score = []\n",
    "train_score = []\n",
    "\n",
    "# check the model performance for max depth from 2-20\n",
    "for max_depth in range(2, 21):\n",
    "    model = DecisionTreeClassifier(max_depth=max_depth, random_state=rs)\n",
    "    model.fit(X_resampled, y_resampled)\n",
    "    \n",
    "    test_score.append(model.score(X_test, y_test))\n",
    "    train_score.append(model.score(X_resampled, y_resampled))"
   ]
  },
  {
   "cell_type": "code",
   "execution_count": 14,
   "metadata": {},
   "outputs": [
    {
     "data": {
      "image/png": "[encoded data removed]",
      "text/plain": [
       "<Figure size 432x288 with 1 Axes>"
      ]
     },
     "metadata": {
      "needs_background": "light"
     },
     "output_type": "display_data"
    }
   ],
   "source": [
    "import matplotlib.pyplot as plt\n",
    "\n",
    "# plot max depth hyperparameter values vs training and test accuracy score\n",
    "plt.plot(range(2, 21), train_score, 'b', range(2,21), test_score, 'r')\n",
    "plt.xlabel('max_depth\\nBlue = training acc. Red = test acc.')\n",
    "plt.ylabel('accuracy')\n",
    "plt.show()"
   ]
  },
  {
   "cell_type": "code",
   "execution_count": 15,
   "metadata": {},
   "outputs": [],
   "source": [
    "from sklearn.model_selection import GridSearchCV"
   ]
  },
  {
   "cell_type": "code",
   "execution_count": 16,
   "metadata": {},
   "outputs": [
    {
     "name": "stdout",
     "output_type": "stream",
     "text": [
      "Train accuracy: 0.701433369109857\n",
      "Test accuracy: 0.5848601735776278\n",
      "              precision    recall  f1-score   support\n",
      "\n",
      "           0       0.91      0.58      0.71      7222\n",
      "           1       0.18      0.64      0.28      1074\n",
      "\n",
      "   micro avg       0.58      0.58      0.58      8296\n",
      "   macro avg       0.55      0.61      0.50      8296\n",
      "weighted avg       0.82      0.58      0.65      8296\n",
      "\n",
      "{'criterion': 'gini', 'max_depth': 9, 'min_samples_leaf': 20}\n"
     ]
    }
   ],
   "source": [
    "# grid search CV\n",
    "params = {'criterion': ['gini', 'entropy'],\n",
    "          'max_depth': range(2, 10),\n",
    "          'min_samples_leaf': range(20, 60, 10)}\n",
    "\n",
    "cv = GridSearchCV(param_grid=params, estimator=DecisionTreeClassifier(random_state=rs), cv=10)\n",
    "cv.fit(X_resampled, y_resampled)\n",
    "\n",
    "print(\"Train accuracy:\", cv.score(X_resampled, y_resampled))\n",
    "print(\"Test accuracy:\", cv.score(X_test, y_test))\n",
    "\n",
    "# test the best model\n",
    "y_pred2 = cv.predict(X_test)\n",
    "print(classification_report(y_test, y_pred2))\n",
    "\n",
    "# print parameters of the best model\n",
    "print(cv.best_params_)"
   ]
  },
  {
   "cell_type": "code",
   "execution_count": 17,
   "metadata": {},
   "outputs": [
    {
     "name": "stdout",
     "output_type": "stream",
     "text": [
      "Train accuracy: 0.6894540040854482\n",
      "Test accuracy: 0.5859450337512054\n",
      "              precision    recall  f1-score   support\n",
      "\n",
      "           0       0.91      0.58      0.71      7222\n",
      "           1       0.18      0.64      0.29      1074\n",
      "\n",
      "   micro avg       0.59      0.59      0.59      8296\n",
      "   macro avg       0.55      0.61      0.50      8296\n",
      "weighted avg       0.82      0.59      0.65      8296\n",
      "\n",
      "{'criterion': 'gini', 'max_depth': 9, 'min_samples_leaf': 60}\n"
     ]
    }
   ],
   "source": [
    "# grid search CV\n",
    "params = {'criterion': ['gini', 'entropy'],\n",
    "          'max_depth': range(2, 10),\n",
    "          'min_samples_leaf': range(60, 100, 10)}\n",
    "\n",
    "cv = GridSearchCV(param_grid=params, estimator=DecisionTreeClassifier(random_state=rs), cv=10)\n",
    "cv.fit(X_resampled, y_resampled)\n",
    "\n",
    "print(\"Train accuracy:\", cv.score(X_resampled, y_resampled))\n",
    "print(\"Test accuracy:\", cv.score(X_test, y_test))\n",
    "\n",
    "# test the best model\n",
    "y_pred2 = cv.predict(X_test)\n",
    "print(classification_report(y_test, y_pred2))\n",
    "\n",
    "# print parameters of the best model\n",
    "print(cv.best_params_)"
   ]
  },
  {
   "cell_type": "code",
   "execution_count": 18,
   "metadata": {},
   "outputs": [
    {
     "name": "stdout",
     "output_type": "stream",
     "text": [
      "Train accuracy: 0.8071703077935117\n",
      "Test accuracy: 0.6404291224686596\n",
      "              precision    recall  f1-score   support\n",
      "\n",
      "           0       0.90      0.66      0.76      7222\n",
      "           1       0.18      0.49      0.26      1074\n",
      "\n",
      "   micro avg       0.64      0.64      0.64      8296\n",
      "   macro avg       0.54      0.58      0.51      8296\n",
      "weighted avg       0.80      0.64      0.70      8296\n",
      "\n",
      "{'criterion': 'gini', 'max_depth': 14, 'min_samples_leaf': 10}\n"
     ]
    }
   ],
   "source": [
    "# grid search CV\n",
    "params = {'criterion': ['gini', 'entropy'],\n",
    "          'max_depth': range(6, 15),\n",
    "          'min_samples_leaf': range(10, 70, 10)}\n",
    "\n",
    "cv = GridSearchCV(param_grid=params, estimator=DecisionTreeClassifier(random_state=rs), cv=10)\n",
    "cv.fit(X_resampled, y_resampled)\n",
    "\n",
    "print(\"Train accuracy:\", cv.score(X_resampled, y_resampled))\n",
    "print(\"Test accuracy:\", cv.score(X_test, y_test))\n",
    "\n",
    "# test the best model\n",
    "y_pred2 = cv.predict(X_test)\n",
    "print(classification_report(y_test, y_pred2))\n",
    "\n",
    "# print parameters of the best model\n",
    "print(cv.best_params_)"
   ]
  },
  {
   "cell_type": "code",
   "execution_count": 19,
   "metadata": {},
   "outputs": [
    {
     "name": "stdout",
     "output_type": "stream",
     "text": [
      "VehBCost : 0.11944773208858668\n",
      "VehYear : 0.1017756063551572\n",
      "VehOdo : 0.09585757676360965\n",
      "MMRCurrentAuctionAveragePrice : 0.06905408633890482\n",
      "MMRAcquisitionAuctionCleanPrice : 0.06259881124095651\n",
      "MMRCurrentAuctionCleanPrice : 0.05588669669846214\n",
      "MMRAcquisitonRetailCleanPrice : 0.055877427497069594\n",
      "MMRAcquisitionRetailAveragePrice : 0.05518380869513675\n",
      "MMRCurrentRetailCleanPrice : 0.054736345960291276\n",
      "MMRAcquisitionAuctionAveragePrice : 0.05044773482095055\n",
      "WheelType_Alloy : 0.04132175467879561\n",
      "WarrantyCost : 0.04122440940939464\n",
      "MMRCurrentRetailAveragePrice : 0.03751349848695527\n",
      "Auction_MANHEIM : 0.027324700653301642\n",
      "WheelType_Covers : 0.01220128953402062\n",
      "VNST_NC : 0.009124777933491313\n",
      "TopThreeAmericanName_GM : 0.008291493166572256\n",
      "VNST_TX : 0.007984137252749834\n",
      "Make_DODGE : 0.006121261634691856\n",
      "VNST_OK : 0.0058877771593164735\n"
     ]
    }
   ],
   "source": [
    "# do the feature importance and visualization analysis on GridSearchCV's best model\n",
    "from dm_tools_OptTree import analyse_feature_importance, visualize_decision_tree\n",
    "\n",
    "analyse_feature_importance(cv.best_estimator_, X.columns, 20)\n",
    "visualize_decision_tree(cv.best_estimator_, X.columns, \"optimal_tree_Oversampled.png\")"
   ]
  },
  {
   "cell_type": "code",
   "execution_count": 20,
   "metadata": {},
   "outputs": [
    {
     "name": "stdout",
     "output_type": "stream",
     "text": [
      "Train accuracy: 0.830540456323789\n",
      "Test accuracy: 0.684787849566056\n",
      "              precision    recall  f1-score   support\n",
      "\n",
      "           0       0.90      0.72      0.80      7222\n",
      "           1       0.19      0.44      0.26      1074\n",
      "\n",
      "   micro avg       0.68      0.68      0.68      8296\n",
      "   macro avg       0.54      0.58      0.53      8296\n",
      "weighted avg       0.80      0.68      0.73      8296\n",
      "\n",
      "{'criterion': 'gini', 'max_depth': 19, 'min_samples_leaf': 20}\n"
     ]
    }
   ],
   "source": [
    "# grid search CV\n",
    "params = {'criterion': ['gini', 'entropy'],\n",
    "          'max_depth': range(2, 20),\n",
    "          'min_samples_leaf': range(20, 100, 10)}\n",
    "\n",
    "cv = GridSearchCV(param_grid=params, estimator=DecisionTreeClassifier(random_state=rs), cv=10)\n",
    "cv.fit(X_resampled, y_resampled)\n",
    "\n",
    "print(\"Train accuracy:\", cv.score(X_resampled, y_resampled))\n",
    "print(\"Test accuracy:\", cv.score(X_test, y_test))\n",
    "\n",
    "# test the best model\n",
    "y_pred2 = cv.predict(X_test)\n",
    "print(classification_report(y_test, y_pred2))\n",
    "\n",
    "# print parameters of the best model\n",
    "print(cv.best_params_)"
   ]
  },
  {
   "cell_type": "code",
   "execution_count": null,
   "metadata": {},
   "outputs": [],
   "source": []
  }
 ],
 "metadata": {
  "kernelspec": {
   "display_name": "Python 3",
   "language": "python",
   "name": "python3"
  },
  "language_info": {
   "codemirror_mode": {
    "name": "ipython",
    "version": 3
   },
   "file_extension": ".py",
   "mimetype": "text/x-python",
   "name": "python",
   "nbconvert_exporter": "python",
   "pygments_lexer": "ipython3",
   "version": "3.7.1"
  }
 },
 "nbformat": 4,
 "nbformat_minor": 2
}
